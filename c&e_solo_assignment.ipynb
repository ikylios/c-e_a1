{
 "cells": [
  {
   "cell_type": "code",
   "execution_count": null,
   "metadata": {},
   "outputs": [
    {
     "ename": "",
     "evalue": "",
     "output_type": "error",
     "traceback": [
      "\u001b[1;31mFailed to start the Kernel. \n",
      "\u001b[1;31mTraceback (most recent call last):\n",
      "\u001b[1;31m  File \"/home/xilxilx/anaconda3/lib/python3.9/runpy.py\", line 197, in _run_module_as_main\n",
      "\u001b[1;31m    return _run_code(code, main_globals, None,\n",
      "\u001b[1;31m  File \"/home/xilxilx/anaconda3/lib/python3.9/runpy.py\", line 87, in _run_code\n",
      "\u001b[1;31m    exec(code, run_globals)\n",
      "\u001b[1;31m  File \"/home/xilxilx/anaconda3/lib/python3.9/site-packages/ipykernel_launcher.py\", line 15, in <module>\n",
      "\u001b[1;31m    from ipykernel import kernelapp as app\n",
      "\u001b[1;31m  File \"/home/xilxilx/anaconda3/lib/python3.9/site-packages/ipykernel/kernelapp.py\", line 42, in <module>\n",
      "\u001b[1;31m    from .ipkernel import IPythonKernel\n",
      "\u001b[1;31m  File \"/home/xilxilx/anaconda3/lib/python3.9/site-packages/ipykernel/ipkernel.py\", line 38, in <module>\n",
      "\u001b[1;31m    from .debugger import Debugger\n",
      "\u001b[1;31m  File \"/home/xilxilx/anaconda3/lib/python3.9/site-packages/ipykernel/debugger.py\", line 23, in <module>\n",
      "\u001b[1;31m    from debugpy.server import api  # noqa\n",
      "\u001b[1;31m  File \"/home/xilxilx/anaconda3/lib/python3.9/site-packages/debugpy/server/__init__.py\", line 9, in <module>\n",
      "\u001b[1;31m    import debugpy._vendored.force_pydevd  # noqa\n",
      "\u001b[1;31m  File \"/home/xilxilx/anaconda3/lib/python3.9/site-packages/debugpy/_vendored/force_pydevd.py\", line 37, in <module>\n",
      "\u001b[1;31m    pydevd_constants = import_module('_pydevd_bundle.pydevd_constants')\n",
      "\u001b[1;31m  File \"/home/xilxilx/anaconda3/lib/python3.9/importlib/__init__.py\", line 127, in import_module\n",
      "\u001b[1;31m    return _bootstrap._gcd_import(name[level:], package, level)\n",
      "\u001b[1;31m  File \"/home/xilxilx/anaconda3/lib/python3.9/site-packages/debugpy/_vendored/pydevd/_pydevd_bundle/pydevd_constants.py\", line 365, in <module>\n",
      "\u001b[1;31m    from _pydev_imps._pydev_saved_modules import thread, threading\n",
      "\u001b[1;31m  File \"/home/xilxilx/anaconda3/lib/python3.9/site-packages/debugpy/_vendored/pydevd/_pydev_imps/_pydev_saved_modules.py\", line 93, in <module>\n",
      "\u001b[1;31m    import code as _code;    verify_shadowed.check(_code, ['compile_command', 'InteractiveInterpreter'])\n",
      "\u001b[1;31m  File \"/home/xilxilx/anaconda3/lib/python3.9/site-packages/debugpy/_vendored/pydevd/_pydev_imps/_pydev_saved_modules.py\", line 77, in check\n",
      "\u001b[1;31m    raise DebuggerInitializationError(msg)\n",
      "\u001b[1;31m_pydev_imps._pydev_saved_modules.DebuggerInitializationError: It was not possible to initialize the debugger due to a module name conflict.\n",
      "\u001b[1;31m\n",
      "\u001b[1;31mi.e.: the module \"code\" could not be imported because it is shadowed by:\n",
      "\u001b[1;31m/home/xilxilx/projects/cloud/code.py\n",
      "\u001b[1;31mPlease rename this file/folder so that the original module from the standard library can be imported. \n",
      "\u001b[1;31mView Jupyter <a href='command:jupyter.viewOutput'>log</a> for further details."
     ]
    }
   ],
   "source": [
    "import numpy as np"
   ]
  },
  {
   "attachments": {},
   "cell_type": "markdown",
   "metadata": {},
   "source": [
    "creation of A"
   ]
  },
  {
   "cell_type": "code",
   "execution_count": null,
   "metadata": {},
   "outputs": [
    {
     "ename": "",
     "evalue": "",
     "output_type": "error",
     "traceback": [
      "\u001b[1;31mFailed to start the Kernel. \n",
      "\u001b[1;31mTraceback (most recent call last):\n",
      "\u001b[1;31m  File \"/home/xilxilx/anaconda3/lib/python3.9/runpy.py\", line 197, in _run_module_as_main\n",
      "\u001b[1;31m    return _run_code(code, main_globals, None,\n",
      "\u001b[1;31m  File \"/home/xilxilx/anaconda3/lib/python3.9/runpy.py\", line 87, in _run_code\n",
      "\u001b[1;31m    exec(code, run_globals)\n",
      "\u001b[1;31m  File \"/home/xilxilx/anaconda3/lib/python3.9/site-packages/ipykernel_launcher.py\", line 15, in <module>\n",
      "\u001b[1;31m    from ipykernel import kernelapp as app\n",
      "\u001b[1;31m  File \"/home/xilxilx/anaconda3/lib/python3.9/site-packages/ipykernel/kernelapp.py\", line 42, in <module>\n",
      "\u001b[1;31m    from .ipkernel import IPythonKernel\n",
      "\u001b[1;31m  File \"/home/xilxilx/anaconda3/lib/python3.9/site-packages/ipykernel/ipkernel.py\", line 38, in <module>\n",
      "\u001b[1;31m    from .debugger import Debugger\n",
      "\u001b[1;31m  File \"/home/xilxilx/anaconda3/lib/python3.9/site-packages/ipykernel/debugger.py\", line 23, in <module>\n",
      "\u001b[1;31m    from debugpy.server import api  # noqa\n",
      "\u001b[1;31m  File \"/home/xilxilx/anaconda3/lib/python3.9/site-packages/debugpy/server/__init__.py\", line 9, in <module>\n",
      "\u001b[1;31m    import debugpy._vendored.force_pydevd  # noqa\n",
      "\u001b[1;31m  File \"/home/xilxilx/anaconda3/lib/python3.9/site-packages/debugpy/_vendored/force_pydevd.py\", line 37, in <module>\n",
      "\u001b[1;31m    pydevd_constants = import_module('_pydevd_bundle.pydevd_constants')\n",
      "\u001b[1;31m  File \"/home/xilxilx/anaconda3/lib/python3.9/importlib/__init__.py\", line 127, in import_module\n",
      "\u001b[1;31m    return _bootstrap._gcd_import(name[level:], package, level)\n",
      "\u001b[1;31m  File \"/home/xilxilx/anaconda3/lib/python3.9/site-packages/debugpy/_vendored/pydevd/_pydevd_bundle/pydevd_constants.py\", line 365, in <module>\n",
      "\u001b[1;31m    from _pydev_imps._pydev_saved_modules import thread, threading\n",
      "\u001b[1;31m  File \"/home/xilxilx/anaconda3/lib/python3.9/site-packages/debugpy/_vendored/pydevd/_pydev_imps/_pydev_saved_modules.py\", line 93, in <module>\n",
      "\u001b[1;31m    import code as _code;    verify_shadowed.check(_code, ['compile_command', 'InteractiveInterpreter'])\n",
      "\u001b[1;31m  File \"/home/xilxilx/anaconda3/lib/python3.9/site-packages/debugpy/_vendored/pydevd/_pydev_imps/_pydev_saved_modules.py\", line 77, in check\n",
      "\u001b[1;31m    raise DebuggerInitializationError(msg)\n",
      "\u001b[1;31m_pydev_imps._pydev_saved_modules.DebuggerInitializationError: It was not possible to initialize the debugger due to a module name conflict.\n",
      "\u001b[1;31m\n",
      "\u001b[1;31mi.e.: the module \"code\" could not be imported because it is shadowed by:\n",
      "\u001b[1;31m/home/xilxilx/projects/cloud/code.py\n",
      "\u001b[1;31mPlease rename this file/folder so that the original module from the standard library can be imported. \n",
      "\u001b[1;31mView Jupyter <a href='command:jupyter.viewOutput'>log</a> for further details."
     ]
    }
   ],
   "source": [
    "a = np.random.rand(100000, 1000)"
   ]
  },
  {
   "attachments": {},
   "cell_type": "markdown",
   "metadata": {},
   "source": [
    "creation of B"
   ]
  },
  {
   "cell_type": "code",
   "execution_count": 9,
   "metadata": {},
   "outputs": [],
   "source": [
    "b = np.random.rand(1000, 100000)"
   ]
  },
  {
   "attachments": {},
   "cell_type": "markdown",
   "metadata": {},
   "source": [
    "creation of C"
   ]
  },
  {
   "cell_type": "code",
   "execution_count": 10,
   "metadata": {},
   "outputs": [],
   "source": [
    "c = np.random.rand(1000000)"
   ]
  },
  {
   "attachments": {},
   "cell_type": "markdown",
   "metadata": {},
   "source": [
    "creation of D"
   ]
  },
  {
   "cell_type": "code",
   "execution_count": 12,
   "metadata": {},
   "outputs": [
    {
     "ename": "MemoryError",
     "evalue": "Unable to allocate 74.5 GiB for an array with shape (100000, 100000) and data type float64",
     "output_type": "error",
     "traceback": [
      "\u001b[0;31m---------------------------------------------------------------------------\u001b[0m",
      "\u001b[0;31mMemoryError\u001b[0m                               Traceback (most recent call last)",
      "\u001b[1;32m/home/xilxilx/projects/cloud/c&e_solo_assignment.ipynb Cell 9\u001b[0m in \u001b[0;36m<cell line: 1>\u001b[0;34m()\u001b[0m\n\u001b[0;32m----> <a href='vscode-notebook-cell:/home/xilxilx/projects/cloud/c%26e_solo_assignment.ipynb#X13sZmlsZQ%3D%3D?line=0'>1</a>\u001b[0m ab \u001b[39m=\u001b[39m np\u001b[39m.\u001b[39;49mmatmul(a, b) \n\u001b[1;32m      <a href='vscode-notebook-cell:/home/xilxilx/projects/cloud/c%26e_solo_assignment.ipynb#X13sZmlsZQ%3D%3D?line=1'>2</a>\u001b[0m \u001b[39mprint\u001b[39m(ab\u001b[39m.\u001b[39msize)\n",
      "\u001b[0;31mMemoryError\u001b[0m: Unable to allocate 74.5 GiB for an array with shape (100000, 100000) and data type float64"
     ]
    }
   ],
   "source": [
    "ab = np.matmul(a, b) "
   ]
  }
 ],
 "metadata": {
  "kernelspec": {
   "display_name": "Python 3.9.12",
   "language": "python",
   "name": "python3"
  },
  "language_info": {
   "codemirror_mode": {
    "name": "ipython",
    "version": 3
   },
   "file_extension": ".py",
   "mimetype": "text/x-python",
   "name": "python",
   "nbconvert_exporter": "python",
   "pygments_lexer": "ipython3",
   "version": "3.9.12"
  },
  "orig_nbformat": 4,
  "vscode": {
   "interpreter": {
    "hash": "81f2703b018150282efb0afe11b7d0f4aac2996f60a12c47dcd5ae60c6bded97"
   }
  }
 },
 "nbformat": 4,
 "nbformat_minor": 2
}
