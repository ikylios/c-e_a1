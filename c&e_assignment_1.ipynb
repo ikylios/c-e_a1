{
 "cells": [
  {
   "cell_type": "code",
   "execution_count": 10,
   "metadata": {},
   "outputs": [],
   "source": [
    "import numpy as np\n",
    "import psutil\n",
    "import sys\n",
    "\n",
    "cpu_us = []\n",
    "mem_us = {}\n",
    "\n",
    "def add_cpu_point():\n",
    "  cpu_us.append(psutil.cpu_percent())\n",
    "\n",
    "def add_data_point(x, x_name):\n",
    "  cpu_us.append(psutil.cpu_percent())\n",
    "  print(cpu_us)\n",
    "  mem_us[x_name] = sys.getsizeof(x)\n",
    "  print(mem_us)"
   ]
  },
  {
   "attachments": {},
   "cell_type": "markdown",
   "metadata": {},
   "source": [
    "creation of A"
   ]
  },
  {
   "cell_type": "code",
   "execution_count": 11,
   "metadata": {},
   "outputs": [
    {
     "name": "stdout",
     "output_type": "stream",
     "text": [
      "[16.4, 46.4]\n",
      "{'a': 80000120}\n"
     ]
    }
   ],
   "source": [
    "add_cpu_point()\n",
    "a = np.random.rand(10000, 1000)\n",
    "add_data_point(a, 'a')"
   ]
  },
  {
   "attachments": {},
   "cell_type": "markdown",
   "metadata": {},
   "source": [
    "creation of B"
   ]
  },
  {
   "cell_type": "code",
   "execution_count": 12,
   "metadata": {},
   "outputs": [
    {
     "name": "stdout",
     "output_type": "stream",
     "text": [
      "[16.4, 46.4, 27.6, 30.4]\n",
      "{'a': 80000120, 'b': 80000120}\n"
     ]
    }
   ],
   "source": [
    "add_cpu_point()\n",
    "b = np.random.rand(1000, 10000)\n",
    "add_data_point(b, 'b')"
   ]
  },
  {
   "attachments": {},
   "cell_type": "markdown",
   "metadata": {},
   "source": [
    "creation of C"
   ]
  },
  {
   "cell_type": "code",
   "execution_count": 13,
   "metadata": {},
   "outputs": [
    {
     "name": "stdout",
     "output_type": "stream",
     "text": [
      "[16.4, 46.4, 27.6, 30.4, 29.4, 50.0]\n",
      "{'a': 80000120, 'b': 80000120, 'c': 80104}\n"
     ]
    }
   ],
   "source": [
    "add_cpu_point()\n",
    "c = np.random.rand(10000)\n",
    "add_data_point(c, 'c')"
   ]
  },
  {
   "attachments": {},
   "cell_type": "markdown",
   "metadata": {},
   "source": [
    "creation of AB"
   ]
  },
  {
   "cell_type": "code",
   "execution_count": 14,
   "metadata": {},
   "outputs": [
    {
     "name": "stdout",
     "output_type": "stream",
     "text": [
      "[16.4, 46.4, 27.6, 30.4, 29.4, 50.0, 32.4, 67.3]\n",
      "{'a': 80000120, 'b': 80000120, 'c': 80104, 'ab': 800000120}\n"
     ]
    }
   ],
   "source": [
    "add_cpu_point()\n",
    "ab = np.matmul(a, b) \n",
    "add_data_point(ab, 'ab')"
   ]
  },
  {
   "attachments": {},
   "cell_type": "markdown",
   "metadata": {},
   "source": [
    "creation of D"
   ]
  },
  {
   "cell_type": "code",
   "execution_count": 15,
   "metadata": {},
   "outputs": [
    {
     "name": "stdout",
     "output_type": "stream",
     "text": [
      "[16.4, 46.4, 27.6, 30.4, 29.4, 50.0, 32.4, 67.3, 66.7, 94.8]\n",
      "{'a': 80000120, 'b': 80000120, 'c': 80104, 'ab': 800000120, 'd': 80104}\n"
     ]
    }
   ],
   "source": [
    "add_cpu_point()\n",
    "d = np.matmul(ab, c)\n",
    "add_data_point(d, 'd')"
   ]
  },
  {
   "attachments": {},
   "cell_type": "markdown",
   "metadata": {},
   "source": [
    "CDF plot"
   ]
  },
  {
   "cell_type": "code",
   "execution_count": 16,
   "metadata": {},
   "outputs": [
    {
     "data": {
      "image/png": "[encoded data removed]",
      "text/plain": [
       "<Figure size 432x288 with 1 Axes>"
      ]
     },
     "metadata": {
      "needs_background": "light"
     },
     "output_type": "display_data"
    }
   ],
   "source": [
    "import scipy\n",
    "import matplotlib.pyplot as plt\n",
    "from statsmodels.distributions.empirical_distribution import ECDF\n",
    "\n",
    "x = a.flatten()\n",
    "\n",
    "ecdf = ECDF(x)\n",
    "plt.plot(ecdf.x, ecdf.y)\n",
    "\n",
    "plt.show()"
   ]
  },
  {
   "attachments": {},
   "cell_type": "markdown",
   "metadata": {},
   "source": [
    "CPU usage plot"
   ]
  },
  {
   "cell_type": "code",
   "execution_count": 17,
   "metadata": {},
   "outputs": [
    {
     "name": "stdout",
     "output_type": "stream",
     "text": [
      "before a init: 16.4\n",
      "after a init: 46.4\n",
      "before b init: 27.6\n",
      "after b init: 30.4\n",
      "before c init: 29.4\n",
      "after c init: 50.0\n",
      "before ab init: 32.4\n",
      "after ab init: 67.3\n",
      "before d init: 66.7\n",
      "after d init: 94.8\n"
     ]
    },
    {
     "data": {
      "image/png": "[encoded data removed]",
      "text/plain": [
       "<Figure size 432x288 with 1 Axes>"
      ]
     },
     "metadata": {
      "needs_background": "light"
     },
     "output_type": "display_data"
    }
   ],
   "source": [
    "print('before a init:', cpu_us[0])\n",
    "print('after a init:', cpu_us[1])\n",
    "\n",
    "print('before b init:', cpu_us[2])\n",
    "print('after b init:', cpu_us[3])\n",
    "\n",
    "print('before c init:', cpu_us[4])\n",
    "print('after c init:', cpu_us[5])\n",
    "\n",
    "print('before ab init:', cpu_us[6])\n",
    "print('after ab init:', cpu_us[7])\n",
    "\n",
    "print('before d init:', cpu_us[8])\n",
    "print('after d init:', cpu_us[9])\n",
    "\n",
    "plt.plot(cpu_us)\n",
    "plt.show()"
   ]
  },
  {
   "attachments": {},
   "cell_type": "markdown",
   "metadata": {},
   "source": [
    "Memory usage plot"
   ]
  },
  {
   "cell_type": "code",
   "execution_count": 18,
   "metadata": {},
   "outputs": [
    {
     "name": "stdout",
     "output_type": "stream",
     "text": [
      "{'a': 80000120, 'b': 80000120, 'c': 80104, 'ab': 800000120, 'd': 80104}\n"
     ]
    },
    {
     "data": {
      "image/png": "[encoded data removed]",
      "text/plain": [
       "<Figure size 432x288 with 1 Axes>"
      ]
     },
     "metadata": {
      "needs_background": "light"
     },
     "output_type": "display_data"
    }
   ],
   "source": [
    "print(mem_us)\n",
    "plt.bar(mem_us.keys(), mem_us.values())\n",
    "plt.show()"
   ]
  }
 ],
 "metadata": {
  "kernelspec": {
   "display_name": "Python 3.9.12",
   "language": "python",
   "name": "python3"
  },
  "language_info": {
   "codemirror_mode": {
    "name": "ipython",
    "version": 3
   },
   "file_extension": ".py",
   "mimetype": "text/x-python",
   "name": "python",
   "nbconvert_exporter": "python",
   "pygments_lexer": "ipython3",
   "version": "3.9.12 (main, Apr  5 2022, 06:56:58) \n[GCC 7.5.0]"
  },
  "orig_nbformat": 4,
  "vscode": {
   "interpreter": {
    "hash": "81f2703b018150282efb0afe11b7d0f4aac2996f60a12c47dcd5ae60c6bded97"
   }
  }
 },
 "nbformat": 4,
 "nbformat_minor": 2
}
